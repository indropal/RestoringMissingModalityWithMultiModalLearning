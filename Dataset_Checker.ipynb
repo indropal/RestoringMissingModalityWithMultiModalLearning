{
 "cells": [
  {
   "cell_type": "markdown",
   "metadata": {},
   "source": [
    "<h1>Checking & Loading the Collated Dataset</h1>\n",
    "\n",
    "The Dataset has been collated and arranged in the <em>'./data'</em> directory under <em>'mnist' & 'speech'</em> where,\n",
    "* <b>'mnist'</b> directory contains the MNIST digit dataset for respective languages in the form of <em>'.npz'</em> files\n",
    "* <b>'speech'</b> directory contains speaker speech recordings for each speaker collated in <em>'.npz'</em> files\n",
    "\n",
    "The <b>MNIST</b> data has been obtained from [MNIST-MIX](https://github.com/jwwthu/MNIST-MIX) dataset. Further the collated speech <em>.npz</em> files have been obtained from the [Free Spoken Digit Dataset](https://github.com/Jakobovski/free-spoken-digit-dataset) which has audio recordings of spoken digits if 6 speakers in English.<br>\n",
    "In the <em>'speech'</em> directory, the recordings <em>(.wav files)</em> have been organized in to <em>.npz</em> files listed according to speakers.\n",
    "\n",
    "Importing relevant modules & libraries."
   ]
  },
  {
   "cell_type": "code",
   "execution_count": 1,
   "metadata": {},
   "outputs": [],
   "source": [
    "import sys\n",
    "import os\n",
    "import numpy as np\n",
    "import matplotlib.pyplot as plt\n",
    "from torch.utils.data import Dataset, IterableDataset, DataLoader\n",
    "from itertools import cycle, islice\n",
    "\n",
    "# change the path pointer to parent directory in order to load relevant modules\n",
    "currentDir = os.path.abspath('')\n",
    "sys.path.append( os.path.dirname(currentDir) )\n",
    "\n",
    "from object_encapsulate import objectIndividual"
   ]
  },
  {
   "cell_type": "markdown",
   "metadata": {},
   "source": [
    "<h4>Instantiate data objects by passing different combinations of MNIST languages as arguments</h4>"
   ]
  },
  {
   "cell_type": "code",
   "execution_count": 2,
   "metadata": {},
   "outputs": [],
   "source": [
    "\"\"\"\n",
    "    create Class object abstraction for different\n",
    "    combinations of Languages (MNIST) & corresponding\n",
    "    Speech in English for respective digits. \n",
    "\"\"\"\n",
    "\n",
    "person1 = objectIndividual('Bangla', 'Arabic') # First Lang. Bangla / Second Lang. Arabic\n",
    "person2 = objectIndividual('Arabic', 'Devanagari') # First Lang. Arabic / Second Lang. Devanagari\n",
    "person3 = objectIndividual('Bangla', 'Urdu') # First Lang. Bangla / Second Lang. Urdu\n",
    "person4 = objectIndividual('Urdu', 'Farsi') # First Lang. Urdu / Second Lang. Farsi\n",
    "person5 = objectIndividual('Bangla', 'Bangla') # First Lang. Bangla / Second Lang. Bangla"
   ]
  },
  {
   "cell_type": "markdown",
   "metadata": {},
   "source": [
    "<em>In order to inspect all the components of the instantiated data object, we create a class abstraction which loads the data object & retrieves a sample of it.</em>"
   ]
  },
  {
   "cell_type": "code",
   "execution_count": 3,
   "metadata": {},
   "outputs": [],
   "source": [
    "class dataset( IterableDataset ):\n",
    "    # class inherit from torch.utils.data.IterableDataset\n",
    "    \n",
    "    def __init__(self, p):\n",
    "        # initialize the data attribute of the passed Iterable Dataset object\n",
    "        self.data = p\n",
    "        \n",
    "    def parseData(self):\n",
    "        # parse the data with the respective data attributes of the instantiated object & return a sample.\n",
    "        for sample in self.data._sample(self.data.mnistFirst_X_train, self.data.mnistSecond_X_train, self.data.speech_X_train, \n",
    "                                        self.data.mnistFirst_y_train, self.data.mnistSecond_y_train, self.data.speech_y_train\n",
    "                                       ):\n",
    "            yield sample\n",
    "            \n",
    "    def __iter__(self):\n",
    "        # redifine __iter__ method with the defined 'parseData' method\n",
    "        return self.parseData()"
   ]
  },
  {
   "cell_type": "markdown",
   "metadata": {},
   "source": [
    "Loop through the instantiated data objects & inspect the corresponding sampled dataset attributes."
   ]
  },
  {
   "cell_type": "code",
   "execution_count": 4,
   "metadata": {
    "scrolled": false
   },
   "outputs": [
    {
     "name": "stdout",
     "output_type": "stream",
     "text": [
      "The Batch ID: 0 | The corresponding label / digit (Y) : 8 \n",
      "------> The Digit corresponding to First MNIST Language: Bangla\n"
     ]
    },
    {
     "data": {
      "image/png": "[encoded data removed]",
      "text/plain": [
       "<Figure size 432x288 with 1 Axes>"
      ]
     },
     "metadata": {
      "needs_background": "light"
     },
     "output_type": "display_data"
    },
    {
     "name": "stdout",
     "output_type": "stream",
     "text": [
      "------> The Digit corresponding to Second MNIST Language: Arabic\n"
     ]
    },
    {
     "data": {
      "image/png": "[encoded data removed]",
      "text/plain": [
       "<Figure size 432x288 with 1 Axes>"
      ]
     },
     "metadata": {
      "needs_background": "light"
     },
     "output_type": "display_data"
    },
    {
     "name": "stdout",
     "output_type": "stream",
     "text": [
      "------> Visualized Speech Tensor: \n"
     ]
    },
    {
     "data": {
      "image/png": "[encoded data removed]",
      "text/plain": [
       "<Figure size 432x288 with 1 Axes>"
      ]
     },
     "metadata": {
      "needs_background": "light"
     },
     "output_type": "display_data"
    },
    {
     "name": "stdout",
     "output_type": "stream",
     "text": [
      "------> The correspondin Label Tensor: \n"
     ]
    },
    {
     "data": {
      "image/png": "[encoded data removed]",
      "text/plain": [
       "<Figure size 432x288 with 1 Axes>"
      ]
     },
     "metadata": {
      "needs_background": "light"
     },
     "output_type": "display_data"
    },
    {
     "name": "stdout",
     "output_type": "stream",
     "text": [
      "----------------------------------------------------------------------------------------------\n",
      "\n",
      "The Batch ID: 0 | The corresponding label / digit (Y) : 2 \n",
      "------> The Digit corresponding to First MNIST Language: Arabic\n"
     ]
    },
    {
     "data": {
      "image/png": "[encoded data removed]",
      "text/plain": [
       "<Figure size 432x288 with 1 Axes>"
      ]
     },
     "metadata": {
      "needs_background": "light"
     },
     "output_type": "display_data"
    },
    {
     "name": "stdout",
     "output_type": "stream",
     "text": [
      "------> The Digit corresponding to Second MNIST Language: Devanagari\n"
     ]
    },
    {
     "data": {
      "image/png": "[encoded data removed]",
      "text/plain": [
       "<Figure size 432x288 with 1 Axes>"
      ]
     },
     "metadata": {
      "needs_background": "light"
     },
     "output_type": "display_data"
    },
    {
     "name": "stdout",
     "output_type": "stream",
     "text": [
      "------> Visualized Speech Tensor: \n"
     ]
    },
    {
     "data": {
      "image/png": "[encoded data removed]",
      "text/plain": [
       "<Figure size 432x288 with 1 Axes>"
      ]
     },
     "metadata": {
      "needs_background": "light"
     },
     "output_type": "display_data"
    },
    {
     "name": "stdout",
     "output_type": "stream",
     "text": [
      "------> The correspondin Label Tensor: \n"
     ]
    },
    {
     "data": {
      "image/png": "[encoded data removed]",
      "text/plain": [
       "<Figure size 432x288 with 1 Axes>"
      ]
     },
     "metadata": {
      "needs_background": "light"
     },
     "output_type": "display_data"
    },
    {
     "name": "stdout",
     "output_type": "stream",
     "text": [
      "----------------------------------------------------------------------------------------------\n",
      "\n",
      "The Batch ID: 0 | The corresponding label / digit (Y) : 0 \n",
      "------> The Digit corresponding to First MNIST Language: Bangla\n"
     ]
    },
    {
     "data": {
      "image/png": "[encoded data removed]",
      "text/plain": [
       "<Figure size 432x288 with 1 Axes>"
      ]
     },
     "metadata": {
      "needs_background": "light"
     },
     "output_type": "display_data"
    },
    {
     "name": "stdout",
     "output_type": "stream",
     "text": [
      "------> The Digit corresponding to Second MNIST Language: Urdu\n"
     ]
    },
    {
     "data": {
      "image/png": "[encoded data removed]",
      "text/plain": [
       "<Figure size 432x288 with 1 Axes>"
      ]
     },
     "metadata": {
      "needs_background": "light"
     },
     "output_type": "display_data"
    },
    {
     "name": "stdout",
     "output_type": "stream",
     "text": [
      "------> Visualized Speech Tensor: \n"
     ]
    },
    {
     "data": {
      "image/png": "[encoded data removed]",
      "text/plain": [
       "<Figure size 432x288 with 1 Axes>"
      ]
     },
     "metadata": {
      "needs_background": "light"
     },
     "output_type": "display_data"
    },
    {
     "name": "stdout",
     "output_type": "stream",
     "text": [
      "------> The correspondin Label Tensor: \n"
     ]
    },
    {
     "data": {
      "image/png": "[encoded data removed]",
      "text/plain": [
       "<Figure size 432x288 with 1 Axes>"
      ]
     },
     "metadata": {
      "needs_background": "light"
     },
     "output_type": "display_data"
    },
    {
     "name": "stdout",
     "output_type": "stream",
     "text": [
      "----------------------------------------------------------------------------------------------\n",
      "\n",
      "The Batch ID: 0 | The corresponding label / digit (Y) : 6 \n",
      "------> The Digit corresponding to First MNIST Language: Urdu\n"
     ]
    },
    {
     "data": {
      "image/png": "[encoded data removed]",
      "text/plain": [
       "<Figure size 432x288 with 1 Axes>"
      ]
     },
     "metadata": {
      "needs_background": "light"
     },
     "output_type": "display_data"
    },
    {
     "name": "stdout",
     "output_type": "stream",
     "text": [
      "------> The Digit corresponding to Second MNIST Language: Farsi\n"
     ]
    },
    {
     "data": {
      "image/png": "[encoded data removed]",
      "text/plain": [
       "<Figure size 432x288 with 1 Axes>"
      ]
     },
     "metadata": {
      "needs_background": "light"
     },
     "output_type": "display_data"
    },
    {
     "name": "stdout",
     "output_type": "stream",
     "text": [
      "------> Visualized Speech Tensor: \n"
     ]
    },
    {
     "data": {
      "image/png": "[encoded data removed]",
      "text/plain": [
       "<Figure size 432x288 with 1 Axes>"
      ]
     },
     "metadata": {
      "needs_background": "light"
     },
     "output_type": "display_data"
    },
    {
     "name": "stdout",
     "output_type": "stream",
     "text": [
      "------> The correspondin Label Tensor: \n"
     ]
    },
    {
     "data": {
      "image/png": "[encoded data removed]",
      "text/plain": [
       "<Figure size 432x288 with 1 Axes>"
      ]
     },
     "metadata": {
      "needs_background": "light"
     },
     "output_type": "display_data"
    },
    {
     "name": "stdout",
     "output_type": "stream",
     "text": [
      "----------------------------------------------------------------------------------------------\n",
      "\n",
      "The Batch ID: 0 | The corresponding label / digit (Y) : 6 \n",
      "------> The Digit corresponding to First MNIST Language: Bangla\n"
     ]
    },
    {
     "data": {
      "image/png": "[encoded data removed]",
      "text/plain": [
       "<Figure size 432x288 with 1 Axes>"
      ]
     },
     "metadata": {
      "needs_background": "light"
     },
     "output_type": "display_data"
    },
    {
     "name": "stdout",
     "output_type": "stream",
     "text": [
      "------> The Digit corresponding to Second MNIST Language: Bangla\n"
     ]
    },
    {
     "data": {
      "image/png": "[encoded data removed]",
      "text/plain": [
       "<Figure size 432x288 with 1 Axes>"
      ]
     },
     "metadata": {
      "needs_background": "light"
     },
     "output_type": "display_data"
    },
    {
     "name": "stdout",
     "output_type": "stream",
     "text": [
      "------> Visualized Speech Tensor: \n"
     ]
    },
    {
     "data": {
      "image/png": "[encoded data removed]",
      "text/plain": [
       "<Figure size 432x288 with 1 Axes>"
      ]
     },
     "metadata": {
      "needs_background": "light"
     },
     "output_type": "display_data"
    },
    {
     "name": "stdout",
     "output_type": "stream",
     "text": [
      "------> The correspondin Label Tensor: \n"
     ]
    },
    {
     "data": {
      "image/png": "[encoded data removed]",
      "text/plain": [
       "<Figure size 432x288 with 1 Axes>"
      ]
     },
     "metadata": {
      "needs_background": "light"
     },
     "output_type": "display_data"
    },
    {
     "name": "stdout",
     "output_type": "stream",
     "text": [
      "----------------------------------------------------------------------------------------------\n",
      "\n"
     ]
    }
   ],
   "source": [
    "personObjectList = [ person1, person2, person3, person4, person5 ]\n",
    "\n",
    "#instantiate data Object & display data features => first MNIST language, second MNIST language, speech\n",
    "\n",
    "def dispData( dataObject ):\n",
    "\n",
    "    instantiateData = dataset( dataObject ) # intstantiate the data class\n",
    "    loadedData = DataLoader( instantiateData, batch_size = 1 )\n",
    "\n",
    "    for batchID, ( ( mnistFirst, mnistSecond, speech ), labelY ) in enumerate( loadedData ):\n",
    "        # Only Iterate Once\n",
    "        print( 'The Batch ID: {} | The corresponding label / digit (Y) : {} '.format( batchID, np.argmax( labelY ) ) )\n",
    "        print('------> The Digit corresponding to First MNIST Language: {}'.format( dataObject.mnistLang1 ) )\n",
    "        plt.imshow(mnistFirst.squeeze())\n",
    "        _ = plt.show()\n",
    "        print('------> The Digit corresponding to Second MNIST Language: {}'.format( dataObject.mnistLang2 ) )\n",
    "        plt.imshow(mnistSecond.squeeze())\n",
    "        _ = plt.show()\n",
    "        print('------> Visualized Speech Tensor: ')\n",
    "        plt.imshow( np.expand_dims( speech.squeeze(), axis = -1 ) )\n",
    "        _ = plt.show()\n",
    "        print(\"------> The correspondin Label Tensor: \")\n",
    "        plt.imshow( np.expand_dims( labelY.squeeze(), axis = -1 ) )\n",
    "        _ = plt.show()\n",
    "        print('----------------------------------------------------------------------------------------------\\n')\n",
    "        break\n",
    "        \n",
    "for p in personObjectList:\n",
    "    dispData( p )"
   ]
  }
 ],
 "metadata": {
  "kernelspec": {
   "display_name": "Python 3",
   "language": "python",
   "name": "python3"
  },
  "language_info": {
   "codemirror_mode": {
    "name": "ipython",
    "version": 3
   },
   "file_extension": ".py",
   "mimetype": "text/x-python",
   "name": "python",
   "nbconvert_exporter": "python",
   "pygments_lexer": "ipython3",
   "version": "3.7.4"
  }
 },
 "nbformat": 4,
 "nbformat_minor": 2
}
